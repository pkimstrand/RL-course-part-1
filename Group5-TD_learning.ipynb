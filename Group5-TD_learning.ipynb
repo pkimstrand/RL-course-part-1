{
  "nbformat": 4,
  "nbformat_minor": 0,
  "metadata": {
    "colab": {
      "name": "SMARTER_RL_1-TD learning.ipynb",
      "provenance": [],
      "collapsed_sections": []
    },
    "kernelspec": {
      "name": "python3",
      "display_name": "Python 3"
    },
    "language_info": {
      "name": "python"
    }
  },
  "cells": [
    {
      "cell_type": "markdown",
      "metadata": {
        "id": "d4fPp_O1t95q"
      },
      "source": [
        ""
      ]
    },
    {
      "cell_type": "markdown",
      "metadata": {
        "id": "Aw7a3Ph5uAOK"
      },
      "source": [
        "# Preliminaries\n",
        "\n",
        "This notebook lets you import a gym environment and set up an agent that acts within the environment. Your tasks is to then implement some of the classical RL algorithms: Value iteration and Policy iteration. Play attention to how you are going to evaluate your agents.\n",
        "\n",
        "First, we make sure that all dependencies are met"
      ]
    },
    {
      "cell_type": "code",
      "metadata": {
        "id": "qktWZzEdtxNN"
      },
      "source": [
        "!pip install gym > /dev/null 2>&1"
      ],
      "execution_count": 1,
      "outputs": []
    },
    {
      "cell_type": "markdown",
      "metadata": {
        "id": "_KLURrYHycqD"
      },
      "source": [
        "# Testing the Gym environments\n",
        "\n",
        "Our next step is to import the gym package, create an environment, and make sure that we can use it."
      ]
    },
    {
      "cell_type": "code",
      "metadata": {
        "colab": {
          "base_uri": "https://localhost:8080/"
        },
        "id": "ZlAGn42vyoyN",
        "outputId": "7a9774cd-30eb-44a4-ec5c-9e9b2d189c29"
      },
      "source": [
        "%matplotlib notebook\n",
        "import gym\n",
        "import math\n",
        "import random\n",
        "import numpy as np\n",
        "import matplotlib\n",
        "import matplotlib.pyplot as plt\n",
        "\n",
        "np.set_printoptions(precision=3, linewidth=200)\n",
        "\n",
        "#create a cliff-walker\n",
        "env = gym.make('CliffWalking-v0')\n",
        "\n",
        "#set the start state\n",
        "state = env.reset()\n",
        "#and take some random actions\n",
        "for i in range(4):\n",
        "  #render the environment\n",
        "  env.render()\n",
        "  \n",
        "  #select a random action\n",
        "  action = env.action_space.sample()\n",
        "  #take a step and record next state, reward and termination\n",
        "  state, reward, done, _ = env.step(action)\n",
        "  print(\"Acted: {}\".format(action))\n",
        "  print(\"State: {}\".format(state))\n",
        "  print(\"Reward: {}\".format(reward))\n",
        "  if done:\n",
        "    #this environment only terminates once the goal is reached\n",
        "    print(\"Done.\")\n",
        "    break"
      ],
      "execution_count": 2,
      "outputs": [
        {
          "output_type": "stream",
          "name": "stdout",
          "text": [
            "o  o  o  o  o  o  o  o  o  o  o  o\n",
            "o  o  o  o  o  o  o  o  o  o  o  o\n",
            "o  o  o  o  o  o  o  o  o  o  o  o\n",
            "x  C  C  C  C  C  C  C  C  C  C  T\n",
            "\n",
            "Acted: 0\n",
            "State: 24\n",
            "Reward: -1\n",
            "o  o  o  o  o  o  o  o  o  o  o  o\n",
            "o  o  o  o  o  o  o  o  o  o  o  o\n",
            "x  o  o  o  o  o  o  o  o  o  o  o\n",
            "o  C  C  C  C  C  C  C  C  C  C  T\n",
            "\n",
            "Acted: 3\n",
            "State: 24\n",
            "Reward: -1\n",
            "o  o  o  o  o  o  o  o  o  o  o  o\n",
            "o  o  o  o  o  o  o  o  o  o  o  o\n",
            "x  o  o  o  o  o  o  o  o  o  o  o\n",
            "o  C  C  C  C  C  C  C  C  C  C  T\n",
            "\n",
            "Acted: 3\n",
            "State: 24\n",
            "Reward: -1\n",
            "o  o  o  o  o  o  o  o  o  o  o  o\n",
            "o  o  o  o  o  o  o  o  o  o  o  o\n",
            "x  o  o  o  o  o  o  o  o  o  o  o\n",
            "o  C  C  C  C  C  C  C  C  C  C  T\n",
            "\n",
            "Acted: 2\n",
            "State: 36\n",
            "Reward: -1\n"
          ]
        }
      ]
    },
    {
      "cell_type": "markdown",
      "metadata": {
        "id": "UsWsM--l5D25"
      },
      "source": [
        "# Defining an agent\n",
        "\n",
        "The next step is to define a class for our agents. We will derive from this class to later implement a Value Iteration, Policy Iteration and Monte Carlo control agent. The base class will only provide simple functionality."
      ]
    },
    {
      "cell_type": "code",
      "metadata": {
        "id": "fzIFdhOk5VoR",
        "colab": {
          "base_uri": "https://localhost:8080/"
        },
        "outputId": "b25484a5-69e3-44fe-e32e-8cb6203381a4"
      },
      "source": [
        "class Agent :\n",
        "  def __init__(self,env,discount_factor):\n",
        "    self.env = env\n",
        "    self.gamma = discount_factor\n",
        "  \n",
        "  def act(self, state):\n",
        "    return self.env.action_space.sample() #returns a random action\n",
        "\n",
        "  def evaluate(self):\n",
        "    # now let's test our random action agent\n",
        "    n_steps = 100 #number of steps per episode\n",
        "\n",
        "    s = env.reset()\n",
        "    episode_reward = 0\n",
        "    \n",
        "    for i in range(n_steps):\n",
        "      s, r, d, _ = env.step(self.act(s))\n",
        "      episode_reward += r\n",
        "      if d:\n",
        "        break\n",
        "    return episode_reward\n",
        "\n",
        "#test simple evaluation function\n",
        "random_agent = Agent(env,0.99)\n",
        "episode_reward=random_agent.evaluate()\n",
        "print(\"Episode return {}\".format(episode_reward))"
      ],
      "execution_count": 3,
      "outputs": [
        {
          "output_type": "stream",
          "name": "stdout",
          "text": [
            "Episode return -1585\n"
          ]
        }
      ]
    },
    {
      "cell_type": "markdown",
      "metadata": {
        "id": "XkCOV-iHHR7M"
      },
      "source": [
        "# Non-determinsitic cliff walker"
      ]
    },
    {
      "cell_type": "code",
      "metadata": {
        "id": "A6TkdlfzPpcI"
      },
      "source": [
        "from gym.envs.toy_text.cliffwalking import CliffWalkingEnv\n",
        "import copy\n",
        "\n",
        "class NonDCliffWalkingEnv(CliffWalkingEnv):\n",
        "  def __init__(self):\n",
        "    super(NonDCliffWalkingEnv, self).__init__()\n",
        "  \n",
        "  def _calculate_transition_prob(self, current, delta):\n",
        "    \"\"\"\n",
        "    Determine the outcome for an action. Transition Prob is always 1.0.\n",
        "    :param current: Current position on the grid as (row, col)\n",
        "    :param delta: Change in position for transition\n",
        "    :return: (1.0, new_state, reward, done)\n",
        "    \"\"\"\n",
        "    transitions = []\n",
        "    terminal_state = (self.shape[0] - 1, self.shape[1] - 1)\n",
        "    deltas = [delta, [2*delta[0], 2*delta[1]]]\n",
        "    zero_index = delta.index(0)\n",
        "    delta_off = copy.copy(delta)\n",
        "    delta_off[zero_index] = 1\n",
        "    deltas.append(copy.copy(delta_off))\n",
        "    delta_off[zero_index] = -1\n",
        "    deltas.append(delta_off)\n",
        "    probabilities = [0.85,0.05,0.05,0.05]\n",
        "\n",
        "    \n",
        "    for d,p in zip(deltas, probabilities):\n",
        "      new_position = np.array(current) + np.array(d)\n",
        "      new_position = self._limit_coordinates(new_position).astype(int)\n",
        "      new_state = self.start_state_index if self._cliff[tuple(new_position)] else np.ravel_multi_index(tuple(new_position), self.shape)\n",
        "      reward = -100 if self._cliff[tuple(new_position)] else -1\n",
        "      is_done = tuple(new_position) == terminal_state\n",
        "      #print(tuple(new_position), self._cliff[tuple(new_position)])\n",
        "      transitions.append((p, new_state, reward, is_done))\n",
        "    \n",
        "    return transitions\n",
        "  "
      ],
      "execution_count": null,
      "outputs": []
    },
    {
      "cell_type": "markdown",
      "metadata": {
        "id": "hY-nBquS4S4j"
      },
      "source": [
        "# SARSA Agent\n",
        "\n"
      ]
    },
    {
      "cell_type": "code",
      "metadata": {
        "id": "NYLjRZPg4cQj"
      },
      "source": [
        "class SARSAAgent(Agent):\n",
        "  def __init__(self,env,discount_factor,alpha,epsilon):\n",
        "    super().__init__(env,discount_factor)\n",
        "    #theta is an approximation error threshold\n",
        "    self.alpha = alpha\n",
        "    self.epsilon = epsilon\n",
        "    self.Q = np.random.rand(self.env.shape[0], self.env.shape[1], self.env.nA)\n",
        "    #set terminal state to 0\n",
        "    self.Q[-1,-1,:] = 0\n",
        "\n",
        "  def act(self, state): \n",
        "    #here choose action according to the epsilon-greedy policy\n",
        "    position = np.unravel_index(state, self.env.shape)\n",
        "    sample = np.random.rand()\n",
        "    if sample > self.epsilon:\n",
        "      action = np.argmax(self.Q[position[0], position[1],:].flatten())\n",
        "    else:\n",
        "      actions = list(range(self.env.nA))\n",
        "      greedy_action = np.argmax(self.Q[position[0], position[1],:].flatten())\n",
        "      actions.pop(actions.index(greedy_action))\n",
        "      action = random.choice(actions)\n",
        "    return action\n",
        "\n",
        "   \n",
        "  def run_one_episode(self):\n",
        "    icliff = 0 \n",
        "    episode = []\n",
        "    done = False\n",
        "    total_reward = 0\n",
        "    self.env.reset()\n",
        "   \n",
        "    state = self.env.s\n",
        "    action = self.act(state)\n",
        "      \n",
        "    istep = 0\n",
        "    while (not done):\n",
        "      new_state, reward, done, _ = self.env.step(action)      \n",
        "      position = np.unravel_index(state, self.env.shape)\n",
        "      # Select next action\n",
        "      new_action = self.act(new_state)\n",
        "      new_position = np.unravel_index(new_state, self.env.shape)\n",
        "      # Update Q\n",
        "      self.Q[position[0], position[1],action] = self.Q[position[0], position[1],action] + self.alpha * \\\n",
        "          (reward + self.gamma * self.Q[new_position[0], new_position[1],new_action] - self.Q[position[0], position[1],action]) \n",
        "\n",
        "      state = new_state\n",
        "      action = new_action\n",
        "      istep += 1\n",
        "      total_reward += reward\n",
        "      if reward == -100: #(self.env._cliff[tuple(new_position)]):\n",
        "        icliff +=1 #print('Fell off the cliff')\n",
        "        done = True\n",
        "      \n",
        "      \n",
        "    #print('Took ' + str(istep) + ' steps. Fell off the cliff ' + str(icliff) + ' times')\n",
        "    return total_reward\n",
        "    \n",
        "  def run_episodes(self, n, epsilon=None):\n",
        "    rewards = []\n",
        "    if epsilon is not None:\n",
        "      self.epsilon = epsilon\n",
        "\n",
        "    for i in range(n):\n",
        "      rewards.append(self.run_one_episode())\n",
        "      \n",
        "      #print('Iteration ' + str(i) + ' done.')\n",
        "    return(rewards)\n",
        "\n"
      ],
      "execution_count": 21,
      "outputs": []
    },
    {
      "cell_type": "code",
      "metadata": {
        "colab": {
          "base_uri": "https://localhost:8080/"
        },
        "id": "BqATPXYAn0Zl",
        "outputId": "4abed57a-fd1d-4c4d-a666-ad613d563279"
      },
      "source": [
        "gamma = 1.0\n",
        "alpha = 0.9\n",
        "epsilon = 0.2\n",
        "SARSAagent = SARSAAgent(env,gamma,alpha,epsilon)\n",
        "print(np.argmax(SARSAagent.Q, axis=2))\n",
        "\n",
        "SARSArewards = []\n",
        "for i in range(10):\n",
        "  epsilon /= (i+1) \n",
        "  SARSArewards.extend(SARSAagent.run_episodes(50, epsilon))\n"
      ],
      "execution_count": 67,
      "outputs": [
        {
          "output_type": "stream",
          "name": "stdout",
          "text": [
            "[[3 0 1 2 0 3 0 1 3 0 1 3]\n",
            " [0 2 0 0 2 0 0 0 1 3 2 2]\n",
            " [3 0 2 1 3 0 2 2 2 1 3 3]\n",
            " [1 3 3 3 2 1 1 0 0 0 3 0]]\n"
          ]
        }
      ]
    },
    {
      "cell_type": "code",
      "metadata": {
        "colab": {
          "base_uri": "https://localhost:8080/",
          "height": 369
        },
        "id": "KvNwnKUVqtGM",
        "outputId": "dadd2f89-749b-4fb5-dc2b-4b4af71a36bf"
      },
      "source": [
        "%matplotlib inline\n",
        "fig,ax = plt.subplots(1)\n",
        "ax.plot(SARSArewards)\n",
        "ax.set_ylim(-100,0)\n",
        "ax.grid()\n",
        "ax.set_yticks(list(range(-100,0,20))+[-13])"
      ],
      "execution_count": 68,
      "outputs": [
        {
          "output_type": "execute_result",
          "data": {
            "text/plain": [
              "[<matplotlib.axis.YTick at 0x7f91cd70d990>,\n",
              " <matplotlib.axis.YTick at 0x7f91cdac3dd0>,\n",
              " <matplotlib.axis.YTick at 0x7f91cd686750>,\n",
              " <matplotlib.axis.YTick at 0x7f91cd6aac50>,\n",
              " <matplotlib.axis.YTick at 0x7f91cd6b3290>,\n",
              " <matplotlib.axis.YTick at 0x7f91cd6b3750>]"
            ]
          },
          "metadata": {},
          "execution_count": 68
        },
        {
          "output_type": "display_data",
          "data": {
            "image/png": "[encoded data removed]",
            "text/plain": [
              "<Figure size 432x288 with 1 Axes>"
            ]
          },
          "metadata": {
            "needs_background": "light"
          }
        }
      ]
    },
    {
      "cell_type": "markdown",
      "metadata": {
        "id": "zDDxB_GN__Tw"
      },
      "source": [
        "# Q-learning Agent\n"
      ]
    },
    {
      "cell_type": "code",
      "metadata": {
        "id": "8gqQ38UqARau"
      },
      "source": [
        "class QLearningAgent(Agent):\n",
        "  def __init__(self,env,discount_factor,alpha,epsilon):\n",
        "    super().__init__(env,discount_factor)\n",
        "    #theta is an approximation error threshold\n",
        "    self.alpha = alpha\n",
        "    self.epsilon = epsilon\n",
        "    self.Q = np.random.rand(self.env.shape[0], self.env.shape[1], self.env.nA)\n",
        "    #set terminal state to 0\n",
        "    self.Q[-1,-1,:] = 0\n",
        "\n",
        "  def act(self, state): \n",
        "    #here choose action according to the epsilon-greedy policy\n",
        "    position = np.unravel_index(state, self.env.shape)\n",
        "    sample = np.random.rand()\n",
        "    if sample > self.epsilon:\n",
        "      action = np.argmax(self.Q[position[0], position[1],:].flatten())\n",
        "    else:\n",
        "      actions = list(range(self.env.nA))\n",
        "      greedy_action = np.argmax(self.Q[position[0], position[1],:].flatten())\n",
        "      actions.pop(actions.index(greedy_action))\n",
        "      action = random.choice(actions)\n",
        "    return action\n",
        "\n",
        "   \n",
        "  def run_one_episode(self):\n",
        "    icliff = 0 \n",
        "    episode = []\n",
        "    done = False\n",
        "    total_reward = 0\n",
        "    self.env.reset()\n",
        "   \n",
        "    state = self.env.s\n",
        "    \n",
        "      \n",
        "    istep = 0\n",
        "    while (not done):\n",
        "      action = self.act(state)\n",
        "      new_state, reward, done, _ = self.env.step(action)      \n",
        "      position = np.unravel_index(state, self.env.shape)\n",
        "      # Select greedy action\n",
        "      new_position = np.unravel_index(new_state, self.env.shape)\n",
        "      greedy_action = np.argmax(self.Q[new_position[0], new_position[1],:].flatten())\n",
        "      # Update Q\n",
        "      self.Q[position[0], position[1],action] = self.Q[position[0], position[1],action] + self.alpha * \\\n",
        "          (reward + self.gamma * self.Q[new_position[0], new_position[1],greedy_action] - self.Q[position[0], position[1],action]) \n",
        "\n",
        "      # Update state and choose next action\n",
        "      state = new_state\n",
        "\n",
        "      istep += 1\n",
        "      total_reward += reward\n",
        "      if reward == -100: #(self.env._cliff[tuple(new_position)]):\n",
        "        icliff +=1 #print('Fell off the cliff')\n",
        "        done = True\n",
        "      \n",
        "      \n",
        "    #print('Took ' + str(istep) + ' steps. Fell off the cliff ' + str(icliff) + ' times')\n",
        "    return total_reward\n",
        "    \n",
        "  def run_episodes(self, n, epsilon=None):\n",
        "    rewards = []\n",
        "    if epsilon is not None:\n",
        "      self.epsilon = epsilon\n",
        "\n",
        "    for i in range(n):\n",
        "      rewards.append(self.run_one_episode())\n",
        "      \n",
        "      #print('Iteration ' + str(i) + ' done.')\n",
        "    return(rewards)\n",
        "\n"
      ],
      "execution_count": 45,
      "outputs": []
    },
    {
      "cell_type": "code",
      "metadata": {
        "colab": {
          "base_uri": "https://localhost:8080/"
        },
        "id": "G-nPVts2yLKU",
        "outputId": "5e4a84f4-6045-4622-ce5d-94b44a8a356e"
      },
      "source": [
        "gamma = 1.0\n",
        "alpha = 0.9\n",
        "epsilon = 0.1\n",
        "Qagent = QLearningAgent(env,gamma,alpha,epsilon)\n",
        "print(np.argmax(Qagent.Q, axis=2))\n",
        "\n",
        "Qrewards = []\n",
        "for i in range(10):\n",
        "  epsilon /= (i+1) \n",
        "  Qrewards.extend(Qagent.run_episodes(50, epsilon))\n"
      ],
      "execution_count": 81,
      "outputs": [
        {
          "output_type": "stream",
          "name": "stdout",
          "text": [
            "[[1 0 2 0 0 2 1 2 1 2 3 3]\n",
            " [0 2 3 2 0 1 2 1 3 3 3 3]\n",
            " [1 0 1 1 0 3 1 0 2 1 0 2]\n",
            " [2 2 2 0 0 3 0 1 1 2 0 0]]\n"
          ]
        }
      ]
    },
    {
      "cell_type": "code",
      "metadata": {
        "colab": {
          "base_uri": "https://localhost:8080/",
          "height": 369
        },
        "id": "RMORBLnKygB8",
        "outputId": "1c2d923c-a3f5-4f79-c0c6-ba8087323268"
      },
      "source": [
        "fig,ax = plt.subplots(1)\n",
        "ax.plot(Qrewards)\n",
        "ax.set_ylim(-100,0)\n",
        "ax.grid()\n",
        "ax.set_yticks(list(range(-100,0,20))+[-13])"
      ],
      "execution_count": 82,
      "outputs": [
        {
          "output_type": "execute_result",
          "data": {
            "text/plain": [
              "[<matplotlib.axis.YTick at 0x7f91cd498f90>,\n",
              " <matplotlib.axis.YTick at 0x7f91cd3f40d0>,\n",
              " <matplotlib.axis.YTick at 0x7f91cd383f90>,\n",
              " <matplotlib.axis.YTick at 0x7f91cd3a4dd0>,\n",
              " <matplotlib.axis.YTick at 0x7f91cd3ae650>,\n",
              " <matplotlib.axis.YTick at 0x7f91cd3aeb90>]"
            ]
          },
          "metadata": {},
          "execution_count": 82
        },
        {
          "output_type": "display_data",
          "data": {
            "image/png": "[encoded data removed]",
            "text/plain": [
              "<Figure size 432x288 with 1 Axes>"
            ]
          },
          "metadata": {
            "needs_background": "light"
          }
        }
      ]
    },
    {
      "cell_type": "markdown",
      "metadata": {
        "id": "nnyny-ZKA8ZT"
      },
      "source": [
        "# Expected SARSA agent"
      ]
    },
    {
      "cell_type": "code",
      "metadata": {
        "id": "PPm3gRCDA6c8"
      },
      "source": [
        "class ESARSAAgent(Agent):\n",
        "  def __init__(self,env,discount_factor,alpha,epsilon):\n",
        "    super().__init__(env,discount_factor)\n",
        "    self.alpha = alpha\n",
        "    self.epsilon = epsilon\n",
        "    self.Q = np.random.rand(self.env.shape[0], self.env.shape[1], self.env.nA)\n",
        "    #set terminal state to 0\n",
        "    self.Q[-1,-1,:] = 0\n",
        "\n",
        "  def act(self, state): \n",
        "    #here choose action according to the epsilon-greedy policy\n",
        "    position = np.unravel_index(state, self.env.shape)\n",
        "    sample = np.random.rand()\n",
        "    if sample > self.epsilon:\n",
        "      action = np.argmax(self.Q[position[0], position[1],:].flatten())\n",
        "    else:\n",
        "      actions = list(range(self.env.nA))\n",
        "      greedy_action = np.argmax(self.Q[position[0], position[1],:].flatten())\n",
        "      actions.pop(actions.index(greedy_action))\n",
        "      action = random.choice(actions)\n",
        "    return action\n",
        "\n",
        "   \n",
        "  def run_one_episode(self):\n",
        "    icliff = 0 \n",
        "    episode = []\n",
        "    done = False\n",
        "    total_reward = 0\n",
        "    self.env.reset()\n",
        "   \n",
        "    state = self.env.s\n",
        "    action = self.act(state)\n",
        "      \n",
        "    istep = 0\n",
        "    while (not done):\n",
        "      new_state, reward, done, _ = self.env.step(action)      \n",
        "      position = np.unravel_index(state, self.env.shape)\n",
        "      # Select next action\n",
        "      new_action = self.act(new_state)\n",
        "      new_position = np.unravel_index(new_state, self.env.shape)\n",
        "      # Update Q\n",
        "      probabilities = np.full(self.env.nA, self.epsilon/(self.env.nA - 1))\n",
        "      greedy_action = np.argmax(self.Q[position[0], position[1],:].flatten())\n",
        "      probabilities[greedy_action] = 1.-self.epsilon\n",
        "\n",
        "\n",
        "      self.Q[position[0], position[1],action] = self.Q[position[0], position[1],action] + self.alpha * \\\n",
        "          (reward + self.gamma * np.sum(probabilities * self.Q[new_position[0], new_position[1],:]) - self.Q[position[0], position[1],action]) \n",
        "\n",
        "      state = new_state\n",
        "      action = new_action\n",
        "      istep += 1\n",
        "      total_reward += reward\n",
        "      if reward == -100: #(self.env._cliff[tuple(new_position)]):\n",
        "        icliff +=1 #print('Fell off the cliff')\n",
        "        done = True\n",
        "      \n",
        "      \n",
        "    #print('Took ' + str(istep) + ' steps. Fell off the cliff ' + str(icliff) + ' times')\n",
        "    return total_reward\n",
        "    \n",
        "  def run_episodes(self, n, epsilon=None):\n",
        "    rewards = []\n",
        "    if epsilon is not None:\n",
        "      self.epsilon = epsilon\n",
        "\n",
        "    for i in range(n):\n",
        "      rewards.append(self.run_one_episode())\n",
        "      \n",
        "      #print('Iteration ' + str(i) + ' done.')\n",
        "    return(rewards)"
      ],
      "execution_count": 57,
      "outputs": []
    },
    {
      "cell_type": "code",
      "metadata": {
        "colab": {
          "base_uri": "https://localhost:8080/"
        },
        "id": "ruhSCSQ7FIJ_",
        "outputId": "70e4b9f8-138a-454f-9515-afea8f89d3ba"
      },
      "source": [
        "gamma = 1.0\n",
        "alpha = 1.0\n",
        "epsilon = 0.2\n",
        "ESARSAagent = ESARSAAgent(env,gamma,alpha,epsilon)\n",
        "print(np.argmax(ESARSAagent.Q, axis=2))\n",
        "\n",
        "ESARSArewards = []\n",
        "for i in range(10):\n",
        "  epsilon /= (i+1) \n",
        "  ESARSArewards.extend(ESARSAagent.run_episodes(50, epsilon))\n"
      ],
      "execution_count": 83,
      "outputs": [
        {
          "output_type": "stream",
          "name": "stdout",
          "text": [
            "[[1 1 3 2 1 2 0 3 3 1 1 0]\n",
            " [2 1 1 0 1 0 3 0 2 0 2 2]\n",
            " [1 0 0 1 0 1 3 3 2 3 0 1]\n",
            " [1 2 3 3 1 3 2 2 0 2 1 0]]\n"
          ]
        }
      ]
    },
    {
      "cell_type": "code",
      "metadata": {
        "colab": {
          "base_uri": "https://localhost:8080/",
          "height": 296
        },
        "id": "Bo-d2F6jFMkn",
        "outputId": "4f576833-8530-49a4-ec65-94124cd7f481"
      },
      "source": [
        "fig,ax = plt.subplots(1)\n",
        "ax.plot(SARSArewards)\n",
        "ax.plot(Qrewards)\n",
        "ax.plot(ESARSArewards)\n",
        "ax.set_ylim(-100,0)\n",
        "ax.grid()\n",
        "ax.set_yticks(list(range(-100,0,20))+[-13])\n",
        "ax.legend(['SARSA','Q-learning','Expected SARSA'])\n",
        "ax.set_xlabel('Episodes')\n",
        "ax.set_ylabel('Total reward per episode')"
      ],
      "execution_count": 87,
      "outputs": [
        {
          "output_type": "execute_result",
          "data": {
            "text/plain": [
              "Text(0, 0.5, 'Total reward per episode')"
            ]
          },
          "metadata": {},
          "execution_count": 87
        },
        {
          "output_type": "display_data",
          "data": {
            "image/png": "[encoded data removed]",
            "text/plain": [
              "<Figure size 432x288 with 1 Axes>"
            ]
          },
          "metadata": {
            "needs_background": "light"
          }
        }
      ]
    },
    {
      "cell_type": "code",
      "metadata": {
        "colab": {
          "base_uri": "https://localhost:8080/"
        },
        "id": "oBY_vKrBGxud",
        "outputId": "0e0a6bfa-412c-4ae9-bee3-c546dc4d0d2a"
      },
      "source": [
        "episode_reward=agent.evaluate()\n",
        "print(\"Episode return {}\".format(episode_reward))\n",
        "\n",
        "print(np.argmax(agent.Q, axis=2))"
      ],
      "execution_count": 62,
      "outputs": [
        {
          "output_type": "stream",
          "name": "stdout",
          "text": [
            "Episode return -13\n",
            "[[1 1 0 1 1 1 1 1 1 1 1 2]\n",
            " [3 1 0 1 1 1 1 1 1 1 1 2]\n",
            " [1 1 1 1 1 1 1 1 1 1 1 2]\n",
            " [0 1 2 0 0 0 3 3 0 1 3 0]]\n"
          ]
        }
      ]
    },
    {
      "cell_type": "code",
      "metadata": {
        "colab": {
          "base_uri": "https://localhost:8080/"
        },
        "id": "Qjr4ALAKwFWm",
        "outputId": "bdeaf0ed-b17d-4094-a898-dc08b7bd76b3"
      },
      "source": [
        "#evaluate agent and plot relevant qualities\n",
        "episode_reward=pagent.evaluate()\n",
        "print(\"Episode return {}\".format(episode_reward))\n",
        "\n",
        "print(pagent.Q[1,0])\n",
        "print(np.argmax(pagent.policy, axis=2))"
      ],
      "execution_count": null,
      "outputs": [
        {
          "output_type": "stream",
          "name": "stdout",
          "text": [
            "Episode return -100\n",
            "[ -96.611 -141.383 -152.218 -155.649]\n",
            "[[1 1 3 1 1 1 1 1 1 1 1 2]\n",
            " [0 0 0 3 1 0 3 3 0 0 0 2]\n",
            " [1 0 0 0 1 0 0 3 3 3 0 2]\n",
            " [0 2 1 3 1 3 1 1 3 0 3 0]]\n"
          ]
        }
      ]
    }
  ]
}