{
  "nbformat": 4,
  "nbformat_minor": 0,
  "metadata": {
    "colab": {
      "name": "SMARTER_RL_1-TD learning_taxi.ipynb",
      "provenance": [],
      "collapsed_sections": []
    },
    "kernelspec": {
      "name": "python3",
      "display_name": "Python 3"
    },
    "language_info": {
      "name": "python"
    }
  },
  "cells": [
    {
      "cell_type": "markdown",
      "metadata": {
        "id": "d4fPp_O1t95q"
      },
      "source": [
        ""
      ]
    },
    {
      "cell_type": "markdown",
      "metadata": {
        "id": "Aw7a3Ph5uAOK"
      },
      "source": [
        "# Preliminaries\n",
        "\n",
        "This notebook lets you import a gym environment and set up an agent that acts within the environment. Your tasks is to then implement some of the classical RL algorithms: Value iteration and Policy iteration. Play attention to how you are going to evaluate your agents.\n",
        "\n",
        "First, we make sure that all dependencies are met"
      ]
    },
    {
      "cell_type": "code",
      "metadata": {
        "id": "qktWZzEdtxNN"
      },
      "source": [
        "!pip install gym > /dev/null 2>&1"
      ],
      "execution_count": 147,
      "outputs": []
    },
    {
      "cell_type": "markdown",
      "metadata": {
        "id": "_KLURrYHycqD"
      },
      "source": [
        "# Testing the Gym environments\n",
        "\n",
        "Our next step is to import the gym package, create an environment, and make sure that we can use it."
      ]
    },
    {
      "cell_type": "code",
      "metadata": {
        "id": "ZlAGn42vyoyN"
      },
      "source": [
        "%matplotlib notebook\n",
        "import gym\n",
        "import math\n",
        "import random\n",
        "import numpy as np\n",
        "import matplotlib\n",
        "import matplotlib.pyplot as plt\n",
        "\n",
        "np.set_printoptions(precision=3, linewidth=200)\n",
        "frames = [] # for animation\n",
        "\n",
        "env = gym.make('Taxi-v3')\n",
        "state = env.reset()\n",
        "total_reward = 0\n",
        "done = False\n",
        "while not done:\n",
        "  action = env.action_space.sample()\n",
        "  obs, reward, done, info = env.step(action)\n",
        "  frames.append({'frame': env.render(mode='ansi'),'state': obs,'action': action,'reward': reward})\n",
        "  total_reward += reward"
      ],
      "execution_count": 148,
      "outputs": []
    },
    {
      "cell_type": "code",
      "metadata": {
        "colab": {
          "base_uri": "https://localhost:8080/"
        },
        "id": "lts16Ky2yMW9",
        "outputId": "a34b2318-30d0-412f-fd85-5f5a5d053dba"
      },
      "source": [
        "from IPython.display import clear_output\n",
        "from time import sleep\n",
        "\n",
        "def print_frames(frames,delay=0.2):\n",
        "    for i, frame in enumerate(frames):\n",
        "        clear_output(wait=True)\n",
        "        print(frame['frame'])\n",
        "        print(f\"Timestep: {i + 1}\")\n",
        "        print(f\"State: {frame['state']}\")\n",
        "        print(f\"Action: {frame['action']}\")\n",
        "        print(f\"Reward: {frame['reward']}\")\n",
        "        sleep(.25)\n",
        "        \n",
        "print_frames(frames, 0.25)\n",
        "print('Total reward: ' + str(total_reward))"
      ],
      "execution_count": 149,
      "outputs": [
        {
          "output_type": "stream",
          "name": "stdout",
          "text": [
            "+---------+\n",
            "|R: | : :G|\n",
            "| : | : : |\n",
            "| :\u001b[42m_\u001b[0m: : : |\n",
            "| | : | : |\n",
            "|\u001b[35mY\u001b[0m| : |B: |\n",
            "+---------+\n",
            "  (East)\n",
            "\n",
            "Timestep: 200\n",
            "State: 238\n",
            "Action: 2\n",
            "Reward: -1\n",
            "Total reward: -866\n"
          ]
        }
      ]
    },
    {
      "cell_type": "markdown",
      "metadata": {
        "id": "UsWsM--l5D25"
      },
      "source": [
        "# Defining an agent\n",
        "\n",
        "The next step is to define a class for our agents. We will derive from this class to later implement a Value Iteration, Policy Iteration and Monte Carlo control agent. The base class will only provide simple functionality."
      ]
    },
    {
      "cell_type": "code",
      "metadata": {
        "id": "fzIFdhOk5VoR",
        "colab": {
          "base_uri": "https://localhost:8080/"
        },
        "outputId": "d8896a29-f6bc-478f-a32f-03c3f4edd215"
      },
      "source": [
        "class Agent():\n",
        "  def __init__(self,env,discount_factor):\n",
        "    self.env = env\n",
        "    self.gamma = discount_factor\n",
        "  \n",
        "  def act(self, state):\n",
        "    return self.env.action_space.sample() #returns a random action\n",
        "\n",
        "  def evaluate(self):\n",
        "    # now let's test our random action agent\n",
        "    n_steps = 100 #number of steps per episode\n",
        "\n",
        "    s = env.reset()\n",
        "    episode_reward = 0\n",
        "    \n",
        "    for i in range(n_steps):\n",
        "      s, r, d, _ = env.step(self.act(s))\n",
        "      episode_reward += r\n",
        "      if d:\n",
        "        break\n",
        "    return episode_reward\n",
        "\n",
        "#test simple evaluation function\n",
        "random_agent = Agent(env,0.99)\n",
        "episode_reward=random_agent.evaluate()\n",
        "print(\"Episode return {}\".format(episode_reward))"
      ],
      "execution_count": 150,
      "outputs": [
        {
          "output_type": "stream",
          "name": "stdout",
          "text": [
            "Episode return -352\n"
          ]
        }
      ]
    },
    {
      "cell_type": "markdown",
      "metadata": {
        "id": "wh7f7K_szxrg"
      },
      "source": [
        "# TD Agent, base class"
      ]
    },
    {
      "cell_type": "code",
      "metadata": {
        "id": "URgQLAPNzkh1"
      },
      "source": [
        "class TDAgent(Agent):\n",
        "  def __init__(self,env,discount_factor,alpha,epsilon):\n",
        "    super().__init__(env,discount_factor)\n",
        "    self.alpha = alpha\n",
        "    self.epsilon = epsilon\n",
        "    self.Q = np.random.rand(self.env.nS, self.env.nA)\n",
        "    \n",
        "\n",
        "  def act(self, state): \n",
        "    #here choose action according to the epsilon-greedy policy\n",
        "    sample = np.random.rand()\n",
        "    if sample > self.epsilon:\n",
        "      action = np.argmax(self.Q[state,:].flatten())\n",
        "    else:\n",
        "      actions = list(range(self.env.nA))\n",
        "      greedy_action = np.argmax(self.Q[state,:].flatten())\n",
        "      actions.pop(actions.index(greedy_action))\n",
        "      action = random.choice(actions)\n",
        "    return action\n",
        "\n",
        " \n",
        "    \n",
        "  def run_episodes(self, n, batch_length):\n",
        "    samp_rewards = deque(maxlen=100)\n",
        "    best_avg_reward = -math.inf\n",
        "    avg_rewards = []\n",
        "    rewards = []\n",
        "    i_batch = 1\n",
        "\n",
        "    for i in range(n):\n",
        "      rewards.append(self.run_one_episode())\n",
        "      samp_rewards.append(rewards[-1])\n",
        "      if (i >= 100):\n",
        "        # get average reward from last 100 episodes\n",
        "        avg_reward = np.mean(samp_rewards)\n",
        "        # append to deque\n",
        "        avg_rewards.append(avg_reward)\n",
        "        # update best average reward\n",
        "        if avg_reward > best_avg_reward:\n",
        "          best_avg_reward = avg_reward\n",
        "        if best_avg_reward >= 9.7:\n",
        "          print('\\nEnvironment solved in {} episodes.'.format(i), end=\"\")\n",
        "          break\n",
        "      if (i%batch_length == 0):\n",
        "        self.epsilon /= (i_batch+1)#*= .9 \n",
        "        i_batch += 1\n",
        "\n",
        "    return(rewards, avg_rewards)"
      ],
      "execution_count": 151,
      "outputs": []
    },
    {
      "cell_type": "markdown",
      "metadata": {
        "id": "hY-nBquS4S4j"
      },
      "source": [
        "# SARSA Agent\n",
        "\n"
      ]
    },
    {
      "cell_type": "code",
      "metadata": {
        "id": "NYLjRZPg4cQj"
      },
      "source": [
        "from collections import deque\n",
        "class SARSAAgent(Agent):\n",
        "  def __init__(self,env,discount_factor,alpha,epsilon):\n",
        "    super().__init__(env,discount_factor)\n",
        "    self.alpha = alpha\n",
        "    self.epsilon = epsilon\n",
        "    self.Q = np.random.rand(self.env.nS, self.env.nA)\n",
        "    \n",
        "\n",
        "  def act(self, state): \n",
        "    #here choose action according to the epsilon-greedy policy\n",
        "    sample = np.random.rand()\n",
        "    if sample > self.epsilon:\n",
        "      action = np.argmax(self.Q[state,:].flatten())\n",
        "    else:\n",
        "      actions = list(range(self.env.nA))\n",
        "      greedy_action = np.argmax(self.Q[state,:].flatten())\n",
        "      actions.pop(actions.index(greedy_action))\n",
        "      action = random.choice(actions)\n",
        "    return action\n",
        "\n",
        "   \n",
        "  def run_one_episode(self):\n",
        "    \n",
        "    episode = []\n",
        "    done = False\n",
        "    total_reward = 0\n",
        "    self.env.reset()\n",
        "   \n",
        "    state = self.env.s\n",
        "    action = self.act(state)\n",
        "    \n",
        "    while (not done):\n",
        "      new_state, reward, done, _ = self.env.step(action)      \n",
        "      # Select next action\n",
        "      new_action = self.act(new_state)\n",
        "      \n",
        "      # Update Q\n",
        "      self.Q[state,action] += self.alpha * (reward + self.gamma * self.Q[new_state,new_action] - self.Q[state,action]) \n",
        "\n",
        "      state = new_state\n",
        "      action = new_action\n",
        "      total_reward += reward\n",
        "   \n",
        "    return total_reward\n",
        "    \n",
        "  def run_episodes(self, n, batch_length):\n",
        "    \n",
        "    samp_rewards = deque(maxlen=100)\n",
        "    best_avg_reward = -math.inf\n",
        "    avg_rewards = []\n",
        "    rewards = []\n",
        "    ibatch = 1\n",
        "\n",
        "    for i in range(n):\n",
        "      rewards.append(self.run_one_episode())\n",
        "      samp_rewards.append(rewards[-1])\n",
        "      if (i >= 100):\n",
        "        # get average reward from last 100 episodes\n",
        "        avg_reward = np.mean(samp_rewards)\n",
        "        # append to deque\n",
        "        avg_rewards.append(avg_reward)\n",
        "        # update best average reward\n",
        "        if avg_reward > best_avg_reward:\n",
        "          best_avg_reward = avg_reward\n",
        "        if best_avg_reward >= 9.7:\n",
        "          print('\\nEnvironment solved in {} episodes.'.format(i), end=\"\")\n",
        "          break\n",
        "      if (i%batch_length == 0):\n",
        "        self.epsilon /= (ibatch+1) \n",
        "        ibatch +=1\n",
        "\n",
        "     \n",
        "    return(rewards, avg_rewards,best_avg_reward)\n",
        "\n"
      ],
      "execution_count": 152,
      "outputs": []
    },
    {
      "cell_type": "code",
      "metadata": {
        "id": "BqATPXYAn0Zl"
      },
      "source": [
        "gamma = 1.0\n",
        "alpha = 0.9\n",
        "epsilon = 0.9\n",
        "SARSAagent = SARSAAgent(env,gamma,alpha,epsilon)\n",
        "\n",
        "SARSArewards = SARSAagent.run_episodes(50000,4000)\n"
      ],
      "execution_count": 153,
      "outputs": []
    },
    {
      "cell_type": "code",
      "source": [
        "SARSAagent.epsilon"
      ],
      "metadata": {
        "colab": {
          "base_uri": "https://localhost:8080/"
        },
        "id": "wgZG1vuH3RYN",
        "outputId": "4653a2ae-b587-4817-e9c2-313461961b8c"
      },
      "execution_count": 154,
      "outputs": [
        {
          "output_type": "execute_result",
          "data": {
            "text/plain": [
              "1.0323671037956752e-11"
            ]
          },
          "metadata": {},
          "execution_count": 154
        }
      ]
    },
    {
      "cell_type": "code",
      "metadata": {
        "colab": {
          "base_uri": "https://localhost:8080/",
          "height": 412
        },
        "id": "KvNwnKUVqtGM",
        "outputId": "3cad8669-9ec5-4992-80a2-83219a5bf335"
      },
      "source": [
        "%matplotlib inline\n",
        "fig,ax = plt.subplots(1)\n",
        "ax.plot(SARSArewards[0])\n",
        "ax.plot(np.arange(100,len(SARSArewards[0]) ),SARSArewards[1])\n",
        "\n",
        "ax.set_ylim(-50,30)\n",
        "ax.grid()\n",
        "ax.set_yticks(list(range(-50,30,10)))"
      ],
      "execution_count": 155,
      "outputs": [
        {
          "output_type": "execute_result",
          "data": {
            "text/plain": [
              "[<matplotlib.axis.YTick at 0x7f2a1c51ecd0>,\n",
              " <matplotlib.axis.YTick at 0x7f2a1c51e510>,\n",
              " <matplotlib.axis.YTick at 0x7f2a1bd88f10>,\n",
              " <matplotlib.axis.YTick at 0x7f2a1bf93bd0>,\n",
              " <matplotlib.axis.YTick at 0x7f2a1c332090>,\n",
              " <matplotlib.axis.YTick at 0x7f2a1c3326d0>,\n",
              " <matplotlib.axis.YTick at 0x7f2a1c332c50>,\n",
              " <matplotlib.axis.YTick at 0x7f2a1c32f210>]"
            ]
          },
          "metadata": {},
          "execution_count": 155
        },
        {
          "output_type": "display_data",
          "data": {
            "image/png": "[encoded data removed]",
            "text/plain": [
              "<Figure size 432x288 with 1 Axes>"
            ]
          },
          "metadata": {
            "needs_background": "light"
          }
        }
      ]
    },
    {
      "cell_type": "markdown",
      "metadata": {
        "id": "zDDxB_GN__Tw"
      },
      "source": [
        "# Q-learning Agent\n"
      ]
    },
    {
      "cell_type": "code",
      "metadata": {
        "id": "8gqQ38UqARau"
      },
      "source": [
        "class QLearningAgent(Agent):\n",
        "  def __init__(self,env,discount_factor,alpha,epsilon):\n",
        "    super().__init__(env,discount_factor)\n",
        "    \n",
        "    self.alpha = alpha\n",
        "    self.epsilon = epsilon\n",
        "    self.Q = np.random.rand(self.env.nS, self.env.nA)\n",
        "   \n",
        "  def act(self, state): \n",
        "    #here choose action according to the epsilon-greedy policy\n",
        "    sample = np.random.rand()\n",
        "    if sample > self.epsilon:\n",
        "      action = np.argmax(self.Q[state,:].flatten())\n",
        "    else:\n",
        "      actions = list(range(self.env.nA))\n",
        "      greedy_action = np.argmax(self.Q[state,:].flatten())\n",
        "      actions.pop(actions.index(greedy_action))\n",
        "      action = random.choice(actions)\n",
        "    return action\n",
        "\n",
        "   \n",
        "  def run_one_episode(self):\n",
        "  \n",
        "    episode = []\n",
        "    done = False\n",
        "    total_reward = 0\n",
        "    state = self.env.reset()\n",
        "   \n",
        "    while (not done):\n",
        "      action = self.act(state)\n",
        "      new_state, reward, done, _ = self.env.step(action)      \n",
        "      # Select greedy action\n",
        "      greedy_action = np.argmax(self.Q[new_state,:].flatten())\n",
        "      # Update Q\n",
        "      self.Q[state,action] += self.alpha * (reward + self.gamma * self.Q[new_state,greedy_action] - self.Q[state,action]) \n",
        "\n",
        "      # Update state\n",
        "      state = new_state\n",
        "\n",
        "      total_reward += reward\n",
        "    return total_reward\n",
        "    \n",
        "  def run_episodes(self, n, batch_length):\n",
        "    \n",
        "    samp_rewards = deque(maxlen=100)\n",
        "    best_avg_reward = -math.inf\n",
        "    avg_rewards = []\n",
        "    rewards = []\n",
        "    ibatch = 1\n",
        "\n",
        "    for i in range(n):\n",
        "      rewards.append(self.run_one_episode())\n",
        "      samp_rewards.append(rewards[-1])\n",
        "      if (i >= 100):\n",
        "        # get average reward from last 100 episodes\n",
        "        avg_reward = np.mean(samp_rewards)\n",
        "        # append to deque\n",
        "        avg_rewards.append(avg_reward)\n",
        "        # update best average reward\n",
        "        if avg_reward > best_avg_reward:\n",
        "          best_avg_reward = avg_reward\n",
        "        if best_avg_reward >= 9.7:\n",
        "          print('\\nEnvironment solved in {} episodes.'.format(i), end=\"\")\n",
        "          break\n",
        "      if (i%batch_length == 0):\n",
        "        self.epsilon /= (ibatch+1) \n",
        "        ibatch +=1\n",
        "\n",
        "     \n",
        "    return(rewards, avg_rewards,best_avg_reward)\n"
      ],
      "execution_count": 156,
      "outputs": []
    },
    {
      "cell_type": "code",
      "metadata": {
        "id": "G-nPVts2yLKU"
      },
      "source": [
        "gamma = 1.0\n",
        "alpha = 0.9\n",
        "epsilon = 0.9\n",
        "Qagent = QLearningAgent(env,gamma,alpha,epsilon)\n",
        "\n",
        "Qrewards = Qagent.run_episodes(50000,4000)\n"
      ],
      "execution_count": 157,
      "outputs": []
    },
    {
      "cell_type": "code",
      "metadata": {
        "colab": {
          "base_uri": "https://localhost:8080/",
          "height": 412
        },
        "id": "RMORBLnKygB8",
        "outputId": "f6b62ade-c5e0-4b28-f23a-1718e7155f00"
      },
      "source": [
        "fig,ax = plt.subplots(1)\n",
        "ax.plot(Qrewards[0])\n",
        "\n",
        "ax.plot(np.arange(100,len(Qrewards[0]) ),Qrewards[1])\n",
        "\n",
        "ax.set_ylim(-50,30)\n",
        "ax.grid()\n",
        "ax.set_yticks(list(range(-50,30,10)))"
      ],
      "execution_count": 158,
      "outputs": [
        {
          "output_type": "execute_result",
          "data": {
            "text/plain": [
              "[<matplotlib.axis.YTick at 0x7f2a1b8e6e50>,\n",
              " <matplotlib.axis.YTick at 0x7f2a1b8e6790>,\n",
              " <matplotlib.axis.YTick at 0x7f2a1b8e5450>,\n",
              " <matplotlib.axis.YTick at 0x7f2a1b891bd0>,\n",
              " <matplotlib.axis.YTick at 0x7f2a1b897050>,\n",
              " <matplotlib.axis.YTick at 0x7f2a1b897710>,\n",
              " <matplotlib.axis.YTick at 0x7f2a1b897990>,\n",
              " <matplotlib.axis.YTick at 0x7f2a1b897e50>]"
            ]
          },
          "metadata": {},
          "execution_count": 158
        },
        {
          "output_type": "display_data",
          "data": {
            "image/png": "[encoded data removed]",
            "text/plain": [
              "<Figure size 432x288 with 1 Axes>"
            ]
          },
          "metadata": {
            "needs_background": "light"
          }
        }
      ]
    },
    {
      "cell_type": "markdown",
      "metadata": {
        "id": "nnyny-ZKA8ZT"
      },
      "source": [
        "# Expected SARSA agent"
      ]
    },
    {
      "cell_type": "code",
      "metadata": {
        "id": "PPm3gRCDA6c8"
      },
      "source": [
        "class ESARSAAgent(Agent):\n",
        "  def __init__(self,env,discount_factor,alpha,epsilon):\n",
        "    super().__init__(env,discount_factor)\n",
        "    self.alpha = alpha\n",
        "    self.epsilon = epsilon\n",
        "    self.Q = np.random.rand(self.env.nS, self.env.nA)\n",
        "\n",
        "  def act(self, state): \n",
        "    #here choose action according to the epsilon-greedy policy\n",
        "    sample = np.random.rand()\n",
        "    if sample > self.epsilon:\n",
        "      action = np.argmax(self.Q[state,:].flatten())\n",
        "    else:\n",
        "      actions = list(range(self.env.nA))\n",
        "      greedy_action = np.argmax(self.Q[state,:].flatten())\n",
        "      actions.pop(actions.index(greedy_action))\n",
        "      action = random.choice(actions)\n",
        "    return action\n",
        "\n",
        "   \n",
        "  def run_one_episode(self):\n",
        "    episode = []\n",
        "    done = False\n",
        "    total_reward = 0\n",
        "    state = self.env.reset()\n",
        "    action = self.act(state)\n",
        "      \n",
        "    while (not done):\n",
        "      new_state, reward, done, _ = self.env.step(action)      \n",
        "      \n",
        "      # Update Q\n",
        "      probabilities = np.full(self.env.nA, self.epsilon/(self.env.nA - 1))\n",
        "      greedy_action = np.argmax(self.Q[state,:].flatten())\n",
        "      probabilities[greedy_action] = 1.-self.epsilon\n",
        "\n",
        "      self.Q[state,action] += self.alpha * (reward + self.gamma * np.sum(probabilities * self.Q[new_state,:]) - self.Q[state,action]) \n",
        "\n",
        "      state = new_state\n",
        "      action = self.act(new_state)\n",
        "      \n",
        "      total_reward += reward\n",
        "     \n",
        "    return total_reward\n",
        "    \n",
        "  def run_episodes(self, n, batch_length):\n",
        "    \n",
        "    samp_rewards = deque(maxlen=100)\n",
        "    best_avg_reward = -math.inf\n",
        "    avg_rewards = []\n",
        "    rewards = []\n",
        "    ibatch = 1\n",
        "\n",
        "    for i in range(n):\n",
        "      rewards.append(self.run_one_episode())\n",
        "      samp_rewards.append(rewards[-1])\n",
        "      if (i >= 100):\n",
        "        # get average reward from last 100 episodes\n",
        "        avg_reward = np.mean(samp_rewards)\n",
        "        # append to deque\n",
        "        avg_rewards.append(avg_reward)\n",
        "        # update best average reward\n",
        "        if avg_reward > best_avg_reward:\n",
        "          best_avg_reward = avg_reward\n",
        "        if best_avg_reward >= 9.7:\n",
        "          print('\\nEnvironment solved in {} episodes.'.format(i), end=\"\")\n",
        "          break\n",
        "      if (i%batch_length == 0):\n",
        "        self.epsilon /= (ibatch+1) \n",
        "        ibatch +=1\n",
        "    \n",
        "    return(rewards, avg_rewards,best_avg_reward)\n"
      ],
      "execution_count": 159,
      "outputs": []
    },
    {
      "cell_type": "code",
      "metadata": {
        "id": "ruhSCSQ7FIJ_"
      },
      "source": [
        "gamma = 1.0\n",
        "alpha = 1.0\n",
        "epsilon = 0.9\n",
        "ESARSAagent = ESARSAAgent(env,gamma,alpha,epsilon)\n",
        "\n",
        "\n",
        "ESARSArewards = ESARSAagent.run_episodes(50000,4000)\n"
      ],
      "execution_count": 160,
      "outputs": []
    },
    {
      "cell_type": "code",
      "source": [
        "ESARSAagent.epsilon"
      ],
      "metadata": {
        "colab": {
          "base_uri": "https://localhost:8080/"
        },
        "id": "kBh2lwBw7ad9",
        "outputId": "a0e4c4d1-740c-4918-d7f4-b3879214f7bd"
      },
      "execution_count": 161,
      "outputs": [
        {
          "output_type": "execute_result",
          "data": {
            "text/plain": [
              "1.0323671037956752e-11"
            ]
          },
          "metadata": {},
          "execution_count": 161
        }
      ]
    },
    {
      "cell_type": "code",
      "source": [
        "fig,ax = plt.subplots(1)\n",
        "ax.plot(ESARSArewards[0])\n",
        "\n",
        "ax.plot(np.arange(100,len(ESARSArewards[0]) ),ESARSArewards[1])\n",
        "\n",
        "ax.set_ylim(-20,20)\n",
        "ax.grid()\n",
        "ax.set_yticks(list(range(-20,20,10)))"
      ],
      "metadata": {
        "colab": {
          "base_uri": "https://localhost:8080/",
          "height": 338
        },
        "id": "GvwPs_4bFNnO",
        "outputId": "57a9b956-be7a-4f45-e474-b54018ae12a5"
      },
      "execution_count": 162,
      "outputs": [
        {
          "output_type": "execute_result",
          "data": {
            "text/plain": [
              "[<matplotlib.axis.YTick at 0x7f2a1c0f7f90>,\n",
              " <matplotlib.axis.YTick at 0x7f2a1bdbea50>,\n",
              " <matplotlib.axis.YTick at 0x7f2a1b850790>,\n",
              " <matplotlib.axis.YTick at 0x7f2a1be62a10>]"
            ]
          },
          "metadata": {},
          "execution_count": 162
        },
        {
          "output_type": "display_data",
          "data": {
            "image/png": "[encoded data removed]",
            "text/plain": [
              "<Figure size 432x288 with 1 Axes>"
            ]
          },
          "metadata": {
            "needs_background": "light"
          }
        }
      ]
    },
    {
      "cell_type": "code",
      "metadata": {
        "colab": {
          "base_uri": "https://localhost:8080/",
          "height": 628
        },
        "id": "Bo-d2F6jFMkn",
        "outputId": "d46ef9da-af13-440b-d7c2-843543dbb8bf"
      },
      "source": [
        "fig,ax = plt.subplots(1, figsize=(15,10))\n",
        "\n",
        "ax.plot(np.arange(100,len(SARSArewards[0]) ),SARSArewards[1])\n",
        "ax.plot(np.arange(100,len(Qrewards[0]) ),Qrewards[1])\n",
        "ax.plot(np.arange(100,len(ESARSArewards[0]) ),ESARSArewards[1])\n",
        "\n",
        "ax.set_xticks(list(range(0,54000,4000)))\n",
        "ax.set_ylim(-20,15)\n",
        "ax.grid()\n",
        "ax.legend(['SARSA','Q-learning','Expected SARSA'])\n",
        "ax.set_xlabel('Episodes')\n",
        "ax.set_ylabel('Running average total reward per episode \\n (window size = 100)')"
      ],
      "execution_count": 181,
      "outputs": [
        {
          "output_type": "execute_result",
          "data": {
            "text/plain": [
              "Text(0, 0.5, 'Running average total reward per episode \\n (window size = 100)')"
            ]
          },
          "metadata": {},
          "execution_count": 181
        },
        {
          "output_type": "display_data",
          "data": {
            "image/png": "[encoded data removed]",
            "text/plain": [
              "<Figure size 1080x720 with 1 Axes>"
            ]
          },
          "metadata": {
            "needs_background": "light"
          }
        }
      ]
    },
    {
      "cell_type": "code",
      "metadata": {
        "colab": {
          "base_uri": "https://localhost:8080/"
        },
        "id": "oBY_vKrBGxud",
        "outputId": "6498da04-e1ef-4d79-9d0b-c2e3bf26c1d5"
      },
      "source": [
        "\n",
        "state = env.reset()\n",
        "#render the environment\n",
        "\n",
        "done=False  \n",
        "frames=[]\n",
        "total_reward = 0\n",
        "for i in range(100):\n",
        "  action = ESARSAagent.act(state)\n",
        "  state, reward, done, _ = env.step(action)\n",
        "  total_reward += reward\n",
        "  frames.append({'frame': env.render(mode='ansi'),'state': state,'action': action,'reward': reward})\n",
        "  if done:\n",
        "    break\n",
        "print_frames(frames)\n",
        "print('Total reward: ' + str(total_reward))"
      ],
      "execution_count": 187,
      "outputs": [
        {
          "output_type": "stream",
          "name": "stdout",
          "text": [
            "+---------+\n",
            "|R: | : :\u001b[35m\u001b[34;1m\u001b[43mG\u001b[0m\u001b[0m\u001b[0m|\n",
            "| : | : : |\n",
            "| : : : : |\n",
            "| | : | : |\n",
            "|Y| : |B: |\n",
            "+---------+\n",
            "  (Dropoff)\n",
            "\n",
            "Timestep: 17\n",
            "State: 85\n",
            "Action: 5\n",
            "Reward: 20\n",
            "Total reward: 4\n"
          ]
        }
      ]
    },
    {
      "cell_type": "code",
      "metadata": {
        "colab": {
          "base_uri": "https://localhost:8080/"
        },
        "id": "Qjr4ALAKwFWm",
        "outputId": "655c38cd-9e7d-4303-bea8-347bdb6a531d"
      },
      "source": [
        "print(SARSArewards[2], Qrewards[2],ESARSArewards[2])"
      ],
      "execution_count": 166,
      "outputs": [
        {
          "output_type": "stream",
          "name": "stdout",
          "text": [
            "8.34 8.7 8.73\n"
          ]
        }
      ]
    },
    {
      "cell_type": "code",
      "source": [
        "SARSAagent.epsilon, Qagent.epsilon, ESARSAagent.epsilon"
      ],
      "metadata": {
        "colab": {
          "base_uri": "https://localhost:8080/"
        },
        "id": "IDQTcR8sCQMQ",
        "outputId": "cc9da293-3f83-404a-c93e-2f2c8cd713a8"
      },
      "execution_count": 183,
      "outputs": [
        {
          "output_type": "execute_result",
          "data": {
            "text/plain": [
              "(1.0323671037956752e-11, 1.0323671037956752e-11, 1.0323671037956752e-11)"
            ]
          },
          "metadata": {},
          "execution_count": 183
        }
      ]
    }
  ]
}